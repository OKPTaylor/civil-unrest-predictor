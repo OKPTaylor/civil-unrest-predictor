{
 "cells": [
  {
   "cell_type": "code",
   "execution_count": 1,
   "metadata": {},
   "outputs": [],
   "source": [
    "import pandas as pd\n",
    "import numpy as np\n",
    "import matplotlib.pyplot as plt\n",
    "import seaborn as sns\n",
    "import os\n",
    "import re\n",
    "import gen_wrangle1 as gw\n",
    "#import train test split from sklearn\n",
    "from sklearn.model_selection import train_test_split\n",
    "#import stat tests\n",
    "import scipy.stats as stats\n",
    "from scipy.stats import pearsonr, spearmanr, ttest_ind, chi2_contingency\n",
    "from sklearn.feature_selection import SelectKBest, f_regression, RFE\n",
    "from sklearn.linear_model import LinearRegression, LassoLars, TweedieRegressor\n",
    "from sklearn.preprocessing import PolynomialFeatures\n",
    "from sklearn.preprocessing import MinMaxScaler, RobustScaler, StandardScaler\n",
    "from sklearn.metrics import mean_squared_error, r2_score, explained_variance_score\n",
    "from sklearn.model_selection import GridSearchCV\n",
    "#import maxabs_scale\n",
    "from sklearn.preprocessing import MaxAbsScaler\n",
    "#import\n",
    "from sklearn.model_selection import cross_val_score\n",
    "from math import sqrt\n",
    "import auto_model3 as am\n",
    "import warnings\n",
    "warnings.filterwarnings(\"ignore\")"
   ]
  },
  {
   "cell_type": "code",
   "execution_count": 2,
   "metadata": {},
   "outputs": [],
   "source": [
    "#asks user for a csv file or xlsx name and returns a dataframe\n",
    "def get_csv_or_excel():\n",
    "    file_name = input(\"What is the name of the csv or xlsx file you want to use for the features?\")\n",
    "    if file_name.endswith('.csv'):\n",
    "        df = pd.read_csv(file_name)\n",
    "    elif file_name.endswith('.xlsx'):\n",
    "        df = pd.read_excel(file_name)\n",
    "    else:\n",
    "        print(\"Sorry, I can't read that file.\")\n",
    "    return df\n"
   ]
  },
  {
   "cell_type": "code",
   "execution_count": 3,
   "metadata": {},
   "outputs": [],
   "source": [
    "#asks user for a csv file or xlsx name for the predictions and returns a dataframe\n",
    "def get_csv_or_excel_pred():\n",
    "    file_name = input(\"What is the name of the csv or xlsx file you want to use for the prediction?\")\n",
    "    if file_name.endswith('.csv'):\n",
    "        this_is_it = pd.read_csv(file_name)\n",
    "    elif file_name.endswith('.xlsx'):\n",
    "        this_is_it = pd.read_excel(file_name)\n",
    "    else:\n",
    "        print(\"Sorry, I can't read that file.\")\n",
    "    return this_is_it"
   ]
  },
  {
   "cell_type": "code",
   "execution_count": 4,
   "metadata": {},
   "outputs": [],
   "source": [
    "target_var = input(\"What is the name of the target variable?\")"
   ]
  },
  {
   "cell_type": "code",
   "execution_count": 5,
   "metadata": {},
   "outputs": [],
   "source": [
    "df = get_csv_or_excel()"
   ]
  },
  {
   "cell_type": "code",
   "execution_count": 6,
   "metadata": {},
   "outputs": [
    {
     "data": {
      "text/plain": [
       "'adjusted_revenue_B'"
      ]
     },
     "execution_count": 6,
     "metadata": {},
     "output_type": "execute_result"
    }
   ],
   "source": [
    "target_var"
   ]
  },
  {
   "cell_type": "code",
   "execution_count": 7,
   "metadata": {},
   "outputs": [],
   "source": [
    "this_is_it = get_csv_or_excel_pred()"
   ]
  },
  {
   "cell_type": "code",
   "execution_count": 8,
   "metadata": {},
   "outputs": [],
   "source": [
    "def split_data(df):\n",
    "    '''\n",
    "    Take in a DataFrame and perform a train-test split with a 70/30 ratio.\n",
    "    Return train and test DataFrames.\n",
    "    '''\n",
    "    train, test = train_test_split(df, test_size=0.25, random_state=123)\n",
    "    return train, test"
   ]
  },
  {
   "cell_type": "code",
   "execution_count": 9,
   "metadata": {},
   "outputs": [],
   "source": [
    "train, test = split_data(df)"
   ]
  },
  {
   "cell_type": "code",
   "execution_count": 10,
   "metadata": {},
   "outputs": [
    {
     "name": "stdout",
     "output_type": "stream",
     "text": [
      "The categorical variables are: \n",
      " ['p_election', 'midterm_election'] \n",
      "\n",
      "The continuous variables are: \n",
      " ['adjusted_revenue_B', 'year', 'quarter', 'population', 'median_house_income', 'federal_fund_rate', 'unemp_rate', 'misery_index', 'home_ownership_rate', 'government_spending', 'gdp_deflated', 'violent_crime_rate', 'cpi_all_items_avg', 'avg_temperature', 'avg_precipitation', 'palmer_drought_index', 'eci', 'dow', 's_and_p', 'gas_perc_change', 'prime', 'gini', 'Man_new_order', 'hdi', 'construction_res', 'cli', 'auto_loan', 'velocity_of_money', 'loans_and_leases', 'wti', 'soy', 'brent_oil', 'case_shiller_index', 'number_of_disaster', 'consumer_confidence_index', 'business_confidence_index', 'c_e_s_housing', 'c_e_s_health', 'c_e_s_entertainment', 'ease_of_doing_business', 'wars_started'] \n",
      "\n"
     ]
    }
   ],
   "source": [
    "#gets a list of the categorical and numerical columns\n",
    "col_cat, col_num = gw.cat_and_num_lists(train)"
   ]
  },
  {
   "cell_type": "code",
   "execution_count": 11,
   "metadata": {},
   "outputs": [],
   "source": [
    "#a function that runs through a list for shapiro test and a\n",
    "def normality_test_loop(df_train_name,list_of_passed_features=[], list_of_failed_features=[]):\n",
    "    col_cat, col_num = gw.cat_and_num_lists(df_train_name)\n",
    "    alpha = .05\n",
    "    \n",
    "    for col in col_num:\n",
    "        stat, p = stats.shapiro(df_train_name[col])\n",
    "        if p > alpha:\n",
    "        \n",
    "            list_of_passed_features.append(col)\n",
    "\n",
    "        else: list_of_failed_features.append(col)\n",
    "        \n",
    "    return list_of_passed_features, list_of_failed_features   "
   ]
  },
  {
   "cell_type": "code",
   "execution_count": 12,
   "metadata": {},
   "outputs": [
    {
     "name": "stdout",
     "output_type": "stream",
     "text": [
      "The categorical variables are: \n",
      " ['p_election', 'midterm_election'] \n",
      "\n",
      "The continuous variables are: \n",
      " ['adjusted_revenue_B', 'year', 'quarter', 'population', 'median_house_income', 'federal_fund_rate', 'unemp_rate', 'misery_index', 'home_ownership_rate', 'government_spending', 'gdp_deflated', 'violent_crime_rate', 'cpi_all_items_avg', 'avg_temperature', 'avg_precipitation', 'palmer_drought_index', 'eci', 'dow', 's_and_p', 'gas_perc_change', 'prime', 'gini', 'Man_new_order', 'hdi', 'construction_res', 'cli', 'auto_loan', 'velocity_of_money', 'loans_and_leases', 'wti', 'soy', 'brent_oil', 'case_shiller_index', 'number_of_disaster', 'consumer_confidence_index', 'business_confidence_index', 'c_e_s_housing', 'c_e_s_health', 'c_e_s_entertainment', 'ease_of_doing_business', 'wars_started'] \n",
      "\n"
     ]
    }
   ],
   "source": [
    "list_of_passed_features, list_of_failed_features=normality_test_loop(train)"
   ]
  },
  {
   "cell_type": "code",
   "execution_count": 13,
   "metadata": {},
   "outputs": [
    {
     "data": {
      "text/plain": [
       "['gdp_deflated',\n",
       " 'cpi_all_items_avg',\n",
       " 'avg_precipitation',\n",
       " 'palmer_drought_index',\n",
       " 'eci',\n",
       " 's_and_p',\n",
       " 'wti',\n",
       " 'c_e_s_entertainment',\n",
       " 'wars_started']"
      ]
     },
     "execution_count": 13,
     "metadata": {},
     "output_type": "execute_result"
    }
   ],
   "source": [
    "list_of_passed_features"
   ]
  },
  {
   "cell_type": "code",
   "execution_count": 14,
   "metadata": {},
   "outputs": [
    {
     "data": {
      "text/plain": [
       "['adjusted_revenue_B',\n",
       " 'year',\n",
       " 'quarter',\n",
       " 'population',\n",
       " 'median_house_income',\n",
       " 'federal_fund_rate',\n",
       " 'unemp_rate',\n",
       " 'misery_index',\n",
       " 'home_ownership_rate',\n",
       " 'government_spending',\n",
       " 'violent_crime_rate',\n",
       " 'avg_temperature',\n",
       " 'dow',\n",
       " 'gas_perc_change',\n",
       " 'prime',\n",
       " 'gini',\n",
       " 'Man_new_order',\n",
       " 'hdi',\n",
       " 'construction_res',\n",
       " 'cli',\n",
       " 'auto_loan',\n",
       " 'velocity_of_money',\n",
       " 'loans_and_leases',\n",
       " 'soy',\n",
       " 'brent_oil',\n",
       " 'case_shiller_index',\n",
       " 'number_of_disaster',\n",
       " 'consumer_confidence_index',\n",
       " 'business_confidence_index',\n",
       " 'c_e_s_housing',\n",
       " 'c_e_s_health',\n",
       " 'ease_of_doing_business']"
      ]
     },
     "execution_count": 14,
     "metadata": {},
     "output_type": "execute_result"
    }
   ],
   "source": [
    "list_of_failed_features"
   ]
  },
  {
   "cell_type": "code",
   "execution_count": 15,
   "metadata": {},
   "outputs": [
    {
     "data": {
      "text/plain": [
       "'adjusted_revenue_B'"
      ]
     },
     "execution_count": 15,
     "metadata": {},
     "output_type": "execute_result"
    }
   ],
   "source": [
    "target_var"
   ]
  },
  {
   "cell_type": "code",
   "execution_count": 16,
   "metadata": {},
   "outputs": [],
   "source": [
    "#if it is on the list of passed features run the pearson test\n",
    "def pearson_test(df_train_name, target_var, list_of_passed_features, pass_stat_list=[], fail_stat_list=[]):\n",
    "    alpha = 0.05\n",
    "    for col in list_of_passed_features:\n",
    "        stat, p = stats.pearsonr(df_train_name[col], df_train_name[target_var])\n",
    "        if p < alpha:\n",
    "            pass_stat_list.append(col)\n",
    "        else:\n",
    "            fail_stat_list.append(col)\n",
    "    return pass_stat_list"
   ]
  },
  {
   "cell_type": "code",
   "execution_count": 17,
   "metadata": {},
   "outputs": [],
   "source": [
    "pass_stat_list=pearson_test(train, target_var, list_of_passed_features)"
   ]
  },
  {
   "cell_type": "code",
   "execution_count": 18,
   "metadata": {},
   "outputs": [],
   "source": [
    "#if it is on the list of failed features run the spearman test\n",
    "def spearman_test(df_train_name, target_var, list_of_failed_features, pass_stat_list, fail_stat_list=[]):\n",
    "    alpha = 0.05\n",
    "    for col in list_of_failed_features:\n",
    "        stat, p = stats.spearmanr(df_train_name[col], df_train_name[target_var])\n",
    "        if p < alpha:\n",
    "            pass_stat_list.append(col)\n",
    "        else:\n",
    "            fail_stat_list.append(col)\n",
    "    return pass_stat_list"
   ]
  },
  {
   "cell_type": "code",
   "execution_count": 19,
   "metadata": {},
   "outputs": [],
   "source": [
    "pass_stat_list = spearman_test(train, target_var, list_of_failed_features, pass_stat_list)"
   ]
  },
  {
   "attachments": {},
   "cell_type": "markdown",
   "metadata": {},
   "source": [
    "#if it is on the categorical list run the test agains the target variable\n",
    "def ttest(df_train_name, target_var, col_cat, pass_stat_list, fail_stat_list=[]):\n",
    "    alpha = 0.05\n",
    "    for col in col_cat:\n",
    "        target_var = df_train_name[target_var]\n",
    "        col = df_train_name[col]\n",
    "        t, p = stats.ttest_ind(target_var, col, equal_var = True)\n",
    "        if p > alpha:\n",
    "            pass_stat_list.append(col)\n",
    "        else:\n",
    "            fail_stat_list.append(col)\n",
    "    return pass_stat_list"
   ]
  },
  {
   "cell_type": "code",
   "execution_count": 20,
   "metadata": {},
   "outputs": [],
   "source": [
    "def ttest_test(df_train_name, target_var, pass_stat_list, fail_stat_list=[]):\n",
    "    for col in col_cat:\n",
    "        if col not in pass_stat_list:\n",
    "            gw.single_pairwise_ind_text(df_train_name, target_var, col, pass_stat_list)\n",
    "    return pass_stat_list        "
   ]
  },
  {
   "cell_type": "code",
   "execution_count": 21,
   "metadata": {},
   "outputs": [],
   "source": [
    "#remove the target variable,year, from the list \n",
    "pass_stat_list.remove(target_var)\n",
    "pass_stat_list.remove('year')"
   ]
  },
  {
   "cell_type": "code",
   "execution_count": 6,
   "metadata": {},
   "outputs": [
    {
     "ename": "NameError",
     "evalue": "name 'pass_stat_list' is not defined",
     "output_type": "error",
     "traceback": [
      "\u001b[0;31m---------------------------------------------------------------------------\u001b[0m",
      "\u001b[0;31mNameError\u001b[0m                                 Traceback (most recent call last)",
      "\u001b[0;32m<ipython-input-6-1c07c1b0f12a>\u001b[0m in \u001b[0;36m<module>\u001b[0;34m\u001b[0m\n\u001b[1;32m      1\u001b[0m \u001b[0;31m#show all columns of this_is_it\u001b[0m\u001b[0;34m\u001b[0m\u001b[0;34m\u001b[0m\u001b[0;34m\u001b[0m\u001b[0m\n\u001b[0;32m----> 2\u001b[0;31m \u001b[0mpass_stat_list\u001b[0m\u001b[0;34m\u001b[0m\u001b[0;34m\u001b[0m\u001b[0m\n\u001b[0m",
      "\u001b[0;31mNameError\u001b[0m: name 'pass_stat_list' is not defined"
     ]
    }
   ],
   "source": [
    "#show all columns of this_is_it\n",
    "pass_stat_list\n"
   ]
  },
  {
   "cell_type": "code",
   "execution_count": 23,
   "metadata": {},
   "outputs": [
    {
     "ename": "KeyError",
     "evalue": "\"None of [Index([('gdp_deflated', 'cpi_all_items_avg', 'eci', 'population', 'median_house_income', 'misery_index', 'government_spending', 'violent_crime_rate', 'prime', 'gini', 'hdi', 'cli', 'velocity_of_money', 'soy', 'consumer_confidence_index', 'c_e_s_health', 'ease_of_doing_business')], dtype='object')] are in the [columns]\"",
     "output_type": "error",
     "traceback": [
      "\u001b[0;31m---------------------------------------------------------------------------\u001b[0m",
      "\u001b[0;31mKeyError\u001b[0m                                  Traceback (most recent call last)",
      "\u001b[0;32m<ipython-input-23-5239efa8050f>\u001b[0m in \u001b[0;36m<module>\u001b[0;34m\u001b[0m\n\u001b[0;32m----> 1\u001b[0;31m \u001b[0mthis_is_it\u001b[0m \u001b[0;34m=\u001b[0m \u001b[0mthis_is_it\u001b[0m\u001b[0;34m[\u001b[0m\u001b[0;34m[\u001b[0m\u001b[0mpass_stat_list\u001b[0m\u001b[0;34m]\u001b[0m\u001b[0;34m]\u001b[0m\u001b[0;34m\u001b[0m\u001b[0;34m\u001b[0m\u001b[0m\n\u001b[0m",
      "\u001b[0;32m~/opt/anaconda3/lib/python3.8/site-packages/pandas/core/frame.py\u001b[0m in \u001b[0;36m__getitem__\u001b[0;34m(self, key)\u001b[0m\n\u001b[1;32m   3028\u001b[0m             \u001b[0;32mif\u001b[0m \u001b[0mis_iterator\u001b[0m\u001b[0;34m(\u001b[0m\u001b[0mkey\u001b[0m\u001b[0;34m)\u001b[0m\u001b[0;34m:\u001b[0m\u001b[0;34m\u001b[0m\u001b[0;34m\u001b[0m\u001b[0m\n\u001b[1;32m   3029\u001b[0m                 \u001b[0mkey\u001b[0m \u001b[0;34m=\u001b[0m \u001b[0mlist\u001b[0m\u001b[0;34m(\u001b[0m\u001b[0mkey\u001b[0m\u001b[0;34m)\u001b[0m\u001b[0;34m\u001b[0m\u001b[0;34m\u001b[0m\u001b[0m\n\u001b[0;32m-> 3030\u001b[0;31m             \u001b[0mindexer\u001b[0m \u001b[0;34m=\u001b[0m \u001b[0mself\u001b[0m\u001b[0;34m.\u001b[0m\u001b[0mloc\u001b[0m\u001b[0;34m.\u001b[0m\u001b[0m_get_listlike_indexer\u001b[0m\u001b[0;34m(\u001b[0m\u001b[0mkey\u001b[0m\u001b[0;34m,\u001b[0m \u001b[0maxis\u001b[0m\u001b[0;34m=\u001b[0m\u001b[0;36m1\u001b[0m\u001b[0;34m,\u001b[0m \u001b[0mraise_missing\u001b[0m\u001b[0;34m=\u001b[0m\u001b[0;32mTrue\u001b[0m\u001b[0;34m)\u001b[0m\u001b[0;34m[\u001b[0m\u001b[0;36m1\u001b[0m\u001b[0;34m]\u001b[0m\u001b[0;34m\u001b[0m\u001b[0;34m\u001b[0m\u001b[0m\n\u001b[0m\u001b[1;32m   3031\u001b[0m \u001b[0;34m\u001b[0m\u001b[0m\n\u001b[1;32m   3032\u001b[0m         \u001b[0;31m# take() does not accept boolean indexers\u001b[0m\u001b[0;34m\u001b[0m\u001b[0;34m\u001b[0m\u001b[0;34m\u001b[0m\u001b[0m\n",
      "\u001b[0;32m~/opt/anaconda3/lib/python3.8/site-packages/pandas/core/indexing.py\u001b[0m in \u001b[0;36m_get_listlike_indexer\u001b[0;34m(self, key, axis, raise_missing)\u001b[0m\n\u001b[1;32m   1264\u001b[0m             \u001b[0mkeyarr\u001b[0m\u001b[0;34m,\u001b[0m \u001b[0mindexer\u001b[0m\u001b[0;34m,\u001b[0m \u001b[0mnew_indexer\u001b[0m \u001b[0;34m=\u001b[0m \u001b[0max\u001b[0m\u001b[0;34m.\u001b[0m\u001b[0m_reindex_non_unique\u001b[0m\u001b[0;34m(\u001b[0m\u001b[0mkeyarr\u001b[0m\u001b[0;34m)\u001b[0m\u001b[0;34m\u001b[0m\u001b[0;34m\u001b[0m\u001b[0m\n\u001b[1;32m   1265\u001b[0m \u001b[0;34m\u001b[0m\u001b[0m\n\u001b[0;32m-> 1266\u001b[0;31m         \u001b[0mself\u001b[0m\u001b[0;34m.\u001b[0m\u001b[0m_validate_read_indexer\u001b[0m\u001b[0;34m(\u001b[0m\u001b[0mkeyarr\u001b[0m\u001b[0;34m,\u001b[0m \u001b[0mindexer\u001b[0m\u001b[0;34m,\u001b[0m \u001b[0maxis\u001b[0m\u001b[0;34m,\u001b[0m \u001b[0mraise_missing\u001b[0m\u001b[0;34m=\u001b[0m\u001b[0mraise_missing\u001b[0m\u001b[0;34m)\u001b[0m\u001b[0;34m\u001b[0m\u001b[0;34m\u001b[0m\u001b[0m\n\u001b[0m\u001b[1;32m   1267\u001b[0m         \u001b[0;32mreturn\u001b[0m \u001b[0mkeyarr\u001b[0m\u001b[0;34m,\u001b[0m \u001b[0mindexer\u001b[0m\u001b[0;34m\u001b[0m\u001b[0;34m\u001b[0m\u001b[0m\n\u001b[1;32m   1268\u001b[0m \u001b[0;34m\u001b[0m\u001b[0m\n",
      "\u001b[0;32m~/opt/anaconda3/lib/python3.8/site-packages/pandas/core/indexing.py\u001b[0m in \u001b[0;36m_validate_read_indexer\u001b[0;34m(self, key, indexer, axis, raise_missing)\u001b[0m\n\u001b[1;32m   1306\u001b[0m             \u001b[0;32mif\u001b[0m \u001b[0mmissing\u001b[0m \u001b[0;34m==\u001b[0m \u001b[0mlen\u001b[0m\u001b[0;34m(\u001b[0m\u001b[0mindexer\u001b[0m\u001b[0;34m)\u001b[0m\u001b[0;34m:\u001b[0m\u001b[0;34m\u001b[0m\u001b[0;34m\u001b[0m\u001b[0m\n\u001b[1;32m   1307\u001b[0m                 \u001b[0maxis_name\u001b[0m \u001b[0;34m=\u001b[0m \u001b[0mself\u001b[0m\u001b[0;34m.\u001b[0m\u001b[0mobj\u001b[0m\u001b[0;34m.\u001b[0m\u001b[0m_get_axis_name\u001b[0m\u001b[0;34m(\u001b[0m\u001b[0maxis\u001b[0m\u001b[0;34m)\u001b[0m\u001b[0;34m\u001b[0m\u001b[0;34m\u001b[0m\u001b[0m\n\u001b[0;32m-> 1308\u001b[0;31m                 \u001b[0;32mraise\u001b[0m \u001b[0mKeyError\u001b[0m\u001b[0;34m(\u001b[0m\u001b[0;34mf\"None of [{key}] are in the [{axis_name}]\"\u001b[0m\u001b[0;34m)\u001b[0m\u001b[0;34m\u001b[0m\u001b[0;34m\u001b[0m\u001b[0m\n\u001b[0m\u001b[1;32m   1309\u001b[0m \u001b[0;34m\u001b[0m\u001b[0m\n\u001b[1;32m   1310\u001b[0m             \u001b[0max\u001b[0m \u001b[0;34m=\u001b[0m \u001b[0mself\u001b[0m\u001b[0;34m.\u001b[0m\u001b[0mobj\u001b[0m\u001b[0;34m.\u001b[0m\u001b[0m_get_axis\u001b[0m\u001b[0;34m(\u001b[0m\u001b[0maxis\u001b[0m\u001b[0;34m)\u001b[0m\u001b[0;34m\u001b[0m\u001b[0;34m\u001b[0m\u001b[0m\n",
      "\u001b[0;31mKeyError\u001b[0m: \"None of [Index([('gdp_deflated', 'cpi_all_items_avg', 'eci', 'population', 'median_house_income', 'misery_index', 'government_spending', 'violent_crime_rate', 'prime', 'gini', 'hdi', 'cli', 'velocity_of_money', 'soy', 'consumer_confidence_index', 'c_e_s_health', 'ease_of_doing_business')], dtype='object')] are in the [columns]\""
     ]
    }
   ],
   "source": [
    "this_is_it = this_is_it[[pass_stat_list]]\n"
   ]
  },
  {
   "cell_type": "code",
   "execution_count": null,
   "metadata": {},
   "outputs": [
    {
     "data": {
      "text/html": [
       "<div>\n",
       "<style scoped>\n",
       "    .dataframe tbody tr th:only-of-type {\n",
       "        vertical-align: middle;\n",
       "    }\n",
       "\n",
       "    .dataframe tbody tr th {\n",
       "        vertical-align: top;\n",
       "    }\n",
       "\n",
       "    .dataframe thead th {\n",
       "        text-align: right;\n",
       "    }\n",
       "</style>\n",
       "<table border=\"1\" class=\"dataframe\">\n",
       "  <thead>\n",
       "    <tr style=\"text-align: right;\">\n",
       "      <th></th>\n",
       "      <th>gdp_deflated</th>\n",
       "      <th>cpi_all_items_avg</th>\n",
       "      <th>eci</th>\n",
       "      <th>adjusted_revenue_B</th>\n",
       "      <th>year</th>\n",
       "      <th>population</th>\n",
       "      <th>median_house_income</th>\n",
       "      <th>misery_index</th>\n",
       "      <th>government_spending</th>\n",
       "      <th>violent_crime_rate</th>\n",
       "      <th>prime</th>\n",
       "      <th>gini</th>\n",
       "      <th>hdi</th>\n",
       "      <th>cli</th>\n",
       "      <th>velocity_of_money</th>\n",
       "      <th>soy</th>\n",
       "      <th>consumer_confidence_index</th>\n",
       "      <th>c_e_s_health</th>\n",
       "      <th>ease_of_doing_business</th>\n",
       "    </tr>\n",
       "  </thead>\n",
       "  <tbody>\n",
       "    <tr>\n",
       "      <th>0</th>\n",
       "      <td>130.8</td>\n",
       "      <td>301.836</td>\n",
       "      <td>159.5</td>\n",
       "      <td>NaN</td>\n",
       "      <td>2023</td>\n",
       "      <td>334.44</td>\n",
       "      <td>82222.021429</td>\n",
       "      <td>8.48692</td>\n",
       "      <td>6512.501649</td>\n",
       "      <td>384.75</td>\n",
       "      <td>7.82</td>\n",
       "      <td>41.1</td>\n",
       "      <td>0.921</td>\n",
       "      <td>98.902607</td>\n",
       "      <td>1.222</td>\n",
       "      <td>553.159437</td>\n",
       "      <td>97.343637</td>\n",
       "      <td>5751.208898</td>\n",
       "      <td>7</td>\n",
       "    </tr>\n",
       "  </tbody>\n",
       "</table>\n",
       "</div>"
      ],
      "text/plain": [
       "   gdp_deflated  cpi_all_items_avg    eci  adjusted_revenue_B  year  \\\n",
       "0         130.8            301.836  159.5                 NaN  2023   \n",
       "\n",
       "   population  median_house_income  misery_index  government_spending  \\\n",
       "0      334.44         82222.021429       8.48692          6512.501649   \n",
       "\n",
       "   violent_crime_rate  prime  gini    hdi        cli  velocity_of_money  \\\n",
       "0              384.75   7.82  41.1  0.921  98.902607              1.222   \n",
       "\n",
       "          soy  consumer_confidence_index  c_e_s_health  ease_of_doing_business  \n",
       "0  553.159437                  97.343637   5751.208898                       7  "
      ]
     },
     "execution_count": 28,
     "metadata": {},
     "output_type": "execute_result"
    }
   ],
   "source": [
    "this_is_it"
   ]
  },
  {
   "cell_type": "code",
   "execution_count": null,
   "metadata": {},
   "outputs": [],
   "source": [
    "X_train, X_test = train[[pass_stat_list]], test[[pass_stat_list]]"
   ]
  },
  {
   "cell_type": "code",
   "execution_count": null,
   "metadata": {},
   "outputs": [
    {
     "data": {
      "text/html": [
       "<div>\n",
       "<style scoped>\n",
       "    .dataframe tbody tr th:only-of-type {\n",
       "        vertical-align: middle;\n",
       "    }\n",
       "\n",
       "    .dataframe tbody tr th {\n",
       "        vertical-align: top;\n",
       "    }\n",
       "\n",
       "    .dataframe thead th {\n",
       "        text-align: right;\n",
       "    }\n",
       "</style>\n",
       "<table border=\"1\" class=\"dataframe\">\n",
       "  <thead>\n",
       "    <tr style=\"text-align: right;\">\n",
       "      <th></th>\n",
       "      <th>gdp_deflated</th>\n",
       "      <th>cpi_all_items_avg</th>\n",
       "      <th>eci</th>\n",
       "      <th>adjusted_revenue_B</th>\n",
       "      <th>year</th>\n",
       "      <th>population</th>\n",
       "      <th>median_house_income</th>\n",
       "      <th>misery_index</th>\n",
       "      <th>government_spending</th>\n",
       "      <th>violent_crime_rate</th>\n",
       "      <th>prime</th>\n",
       "      <th>gini</th>\n",
       "      <th>hdi</th>\n",
       "      <th>cli</th>\n",
       "      <th>velocity_of_money</th>\n",
       "      <th>soy</th>\n",
       "      <th>consumer_confidence_index</th>\n",
       "      <th>c_e_s_health</th>\n",
       "      <th>ease_of_doing_business</th>\n",
       "    </tr>\n",
       "  </thead>\n",
       "  <tbody>\n",
       "    <tr>\n",
       "      <th>1</th>\n",
       "      <td>128.269</td>\n",
       "      <td>296.808</td>\n",
       "      <td>155.8</td>\n",
       "      <td>45.232250</td>\n",
       "      <td>2022</td>\n",
       "      <td>333.640000</td>\n",
       "      <td>80793.111557</td>\n",
       "      <td>11.71485</td>\n",
       "      <td>6233.072139</td>\n",
       "      <td>405.0</td>\n",
       "      <td>5.73</td>\n",
       "      <td>39.4</td>\n",
       "      <td>0.921</td>\n",
       "      <td>99.277920</td>\n",
       "      <td>1.165</td>\n",
       "      <td>552.586005</td>\n",
       "      <td>96.364630</td>\n",
       "      <td>5756.706166</td>\n",
       "      <td>7</td>\n",
       "    </tr>\n",
       "    <tr>\n",
       "      <th>24</th>\n",
       "      <td>106.487</td>\n",
       "      <td>241.432</td>\n",
       "      <td>127.3</td>\n",
       "      <td>48.994948</td>\n",
       "      <td>2016</td>\n",
       "      <td>323.910000</td>\n",
       "      <td>84237.593248</td>\n",
       "      <td>6.75080</td>\n",
       "      <td>5280.566169</td>\n",
       "      <td>397.9</td>\n",
       "      <td>3.64</td>\n",
       "      <td>41.1</td>\n",
       "      <td>0.922</td>\n",
       "      <td>99.671985</td>\n",
       "      <td>1.448</td>\n",
       "      <td>474.270122</td>\n",
       "      <td>100.890333</td>\n",
       "      <td>5828.401819</td>\n",
       "      <td>7</td>\n",
       "    </tr>\n",
       "    <tr>\n",
       "      <th>65</th>\n",
       "      <td>90.628</td>\n",
       "      <td>202.900</td>\n",
       "      <td>102.5</td>\n",
       "      <td>60.931084</td>\n",
       "      <td>2006</td>\n",
       "      <td>298.905385</td>\n",
       "      <td>96990.568396</td>\n",
       "      <td>6.51207</td>\n",
       "      <td>4173.951270</td>\n",
       "      <td>479.3</td>\n",
       "      <td>8.25</td>\n",
       "      <td>41.4</td>\n",
       "      <td>0.900</td>\n",
       "      <td>101.093573</td>\n",
       "      <td>2.017</td>\n",
       "      <td>299.706082</td>\n",
       "      <td>99.864470</td>\n",
       "      <td>4159.346939</td>\n",
       "      <td>3</td>\n",
       "    </tr>\n",
       "    <tr>\n",
       "      <th>45</th>\n",
       "      <td>98.595</td>\n",
       "      <td>226.889</td>\n",
       "      <td>114.2</td>\n",
       "      <td>45.859909</td>\n",
       "      <td>2011</td>\n",
       "      <td>311.890000</td>\n",
       "      <td>81260.557594</td>\n",
       "      <td>12.81262</td>\n",
       "      <td>5088.309714</td>\n",
       "      <td>387.1</td>\n",
       "      <td>3.25</td>\n",
       "      <td>40.9</td>\n",
       "      <td>0.911</td>\n",
       "      <td>99.202021</td>\n",
       "      <td>1.714</td>\n",
       "      <td>660.149854</td>\n",
       "      <td>96.981693</td>\n",
       "      <td>4455.157002</td>\n",
       "      <td>5</td>\n",
       "    </tr>\n",
       "    <tr>\n",
       "      <th>60</th>\n",
       "      <td>93.327</td>\n",
       "      <td>210.036</td>\n",
       "      <td>106.7</td>\n",
       "      <td>61.856846</td>\n",
       "      <td>2007</td>\n",
       "      <td>302.285879</td>\n",
       "      <td>94080.174105</td>\n",
       "      <td>9.10881</td>\n",
       "      <td>4345.990342</td>\n",
       "      <td>471.8</td>\n",
       "      <td>7.33</td>\n",
       "      <td>40.8</td>\n",
       "      <td>0.906</td>\n",
       "      <td>101.419728</td>\n",
       "      <td>1.977</td>\n",
       "      <td>614.588650</td>\n",
       "      <td>99.074943</td>\n",
       "      <td>4144.413229</td>\n",
       "      <td>3</td>\n",
       "    </tr>\n",
       "  </tbody>\n",
       "</table>\n",
       "</div>"
      ],
      "text/plain": [
       "    gdp_deflated  cpi_all_items_avg    eci  adjusted_revenue_B  year  \\\n",
       "1        128.269            296.808  155.8           45.232250  2022   \n",
       "24       106.487            241.432  127.3           48.994948  2016   \n",
       "65        90.628            202.900  102.5           60.931084  2006   \n",
       "45        98.595            226.889  114.2           45.859909  2011   \n",
       "60        93.327            210.036  106.7           61.856846  2007   \n",
       "\n",
       "    population  median_house_income  misery_index  government_spending  \\\n",
       "1   333.640000         80793.111557      11.71485          6233.072139   \n",
       "24  323.910000         84237.593248       6.75080          5280.566169   \n",
       "65  298.905385         96990.568396       6.51207          4173.951270   \n",
       "45  311.890000         81260.557594      12.81262          5088.309714   \n",
       "60  302.285879         94080.174105       9.10881          4345.990342   \n",
       "\n",
       "    violent_crime_rate  prime  gini    hdi         cli  velocity_of_money  \\\n",
       "1                405.0   5.73  39.4  0.921   99.277920              1.165   \n",
       "24               397.9   3.64  41.1  0.922   99.671985              1.448   \n",
       "65               479.3   8.25  41.4  0.900  101.093573              2.017   \n",
       "45               387.1   3.25  40.9  0.911   99.202021              1.714   \n",
       "60               471.8   7.33  40.8  0.906  101.419728              1.977   \n",
       "\n",
       "           soy  consumer_confidence_index  c_e_s_health  \\\n",
       "1   552.586005                  96.364630   5756.706166   \n",
       "24  474.270122                 100.890333   5828.401819   \n",
       "65  299.706082                  99.864470   4159.346939   \n",
       "45  660.149854                  96.981693   4455.157002   \n",
       "60  614.588650                  99.074943   4144.413229   \n",
       "\n",
       "    ease_of_doing_business  \n",
       "1                        7  \n",
       "24                       7  \n",
       "65                       3  \n",
       "45                       5  \n",
       "60                       3  "
      ]
     },
     "execution_count": 29,
     "metadata": {},
     "output_type": "execute_result"
    }
   ],
   "source": [
    "X_train.head()"
   ]
  },
  {
   "cell_type": "code",
   "execution_count": null,
   "metadata": {},
   "outputs": [],
   "source": [
    "y_train, y_test = train[target_var], test[target_var]   "
   ]
  },
  {
   "cell_type": "code",
   "execution_count": null,
   "metadata": {},
   "outputs": [],
   "source": [
    "def scale_data(X_train, X_test, this_is_it):\n",
    "     #making our scaler\n",
    "    scaler = MinMaxScaler()\n",
    "    #fitting our scaler \n",
    "    # AND!!!!\n",
    "    #using the scaler on train\n",
    "    X_train_scaled = scaler.fit_transform(X_train)\n",
    "    #using our scaler on test\n",
    "    X_test_scaled = scaler.transform(X_test)\n",
    "\n",
    "    # Convert the array to a DataFrame\n",
    "    X_train_scaled = pd.DataFrame(X_train_scaled, columns=X_train.columns, index=X_train.index)\n",
    "    \n",
    "    # Convert the array to a DataFrame\n",
    "    X_test_scaled = pd.DataFrame(X_test_scaled,columns=X_test.columns, index=X_test.index)\n",
    "\n",
    "    this_is_it_scaled = scaler.fit_transform(this_is_it)\n",
    "    this_is_it_scaled = pd.DataFrame(this_is_it_scaled, columns=this_is_it.columns, index=this_is_it.index)  \n",
    "    \n",
    "    \n",
    "\n",
    "    return X_train_scaled, X_test_scaled, this_is_it_scaled"
   ]
  },
  {
   "cell_type": "code",
   "execution_count": null,
   "metadata": {},
   "outputs": [],
   "source": [
    "X_train_scaled, X_test_scaled, this_is_it_scaled = scale_data(X_train, X_test, this_is_it)"
   ]
  },
  {
   "cell_type": "code",
   "execution_count": null,
   "metadata": {},
   "outputs": [
    {
     "ename": "ValueError",
     "evalue": "Input contains NaN, infinity or a value too large for dtype('float64').",
     "output_type": "error",
     "traceback": [
      "\u001b[0;31m---------------------------------------------------------------------------\u001b[0m",
      "\u001b[0;31mValueError\u001b[0m                                Traceback (most recent call last)",
      "\u001b[0;32m<ipython-input-27-49e7b4532f59>\u001b[0m in \u001b[0;36m<module>\u001b[0;34m\u001b[0m\n\u001b[0;32m----> 1\u001b[0;31m \u001b[0mam\u001b[0m\u001b[0;34m.\u001b[0m\u001b[0mauto_regress_grid\u001b[0m\u001b[0;34m(\u001b[0m \u001b[0my_train\u001b[0m\u001b[0;34m,\u001b[0m \u001b[0mtrain\u001b[0m\u001b[0;34m,\u001b[0m \u001b[0mX_train_scaled\u001b[0m\u001b[0;34m,\u001b[0m \u001b[0my_test\u001b[0m\u001b[0;34m,\u001b[0m \u001b[0mX_test_scaled\u001b[0m\u001b[0;34m,\u001b[0m \u001b[0mthis_is_it_scaled\u001b[0m\u001b[0;34m)\u001b[0m\u001b[0;34m\u001b[0m\u001b[0;34m\u001b[0m\u001b[0m\n\u001b[0m",
      "\u001b[0;32m~/codeup-data-science/Project-Apollo/auto_model3.py\u001b[0m in \u001b[0;36mauto_regress_grid\u001b[0;34m(y_train, train_df, x_train_scaled, y_test, x_test_scaled, revenue_prediction_scaled)\u001b[0m\n\u001b[1;32m    419\u001b[0m \u001b[0;34m\u001b[0m\u001b[0m\n\u001b[1;32m    420\u001b[0m \u001b[0;34m\u001b[0m\u001b[0m\n\u001b[0;32m--> 421\u001b[0;31m     \u001b[0mmodel_all_grid\u001b[0m\u001b[0;34m(\u001b[0m\u001b[0my_train\u001b[0m\u001b[0;34m,\u001b[0m \u001b[0mtrain_df\u001b[0m\u001b[0;34m,\u001b[0m \u001b[0mx_train_scaled\u001b[0m\u001b[0;34m,\u001b[0m \u001b[0my_test\u001b[0m\u001b[0;34m,\u001b[0m \u001b[0mx_test_scaled\u001b[0m\u001b[0;34m,\u001b[0m\u001b[0mrevenue_prediction_scaled\u001b[0m\u001b[0;34m)\u001b[0m\u001b[0;34m\u001b[0m\u001b[0;34m\u001b[0m\u001b[0m\n\u001b[0m\u001b[1;32m    422\u001b[0m \u001b[0;34m\u001b[0m\u001b[0m\n",
      "\u001b[0;32m~/codeup-data-science/Project-Apollo/auto_model3.py\u001b[0m in \u001b[0;36mmodel_all_grid\u001b[0;34m(y_train, train_df, x_train_scaled, y_test, x_test_scaled, revenue_prediction_scaled)\u001b[0m\n\u001b[1;32m    331\u001b[0m \u001b[0;34m\u001b[0m\u001b[0m\n\u001b[1;32m    332\u001b[0m         \u001b[0;31m#best model value prediction\u001b[0m\u001b[0;34m\u001b[0m\u001b[0;34m\u001b[0m\u001b[0;34m\u001b[0m\u001b[0m\n\u001b[0;32m--> 333\u001b[0;31m         \u001b[0mpred_value\u001b[0m \u001b[0;34m=\u001b[0m \u001b[0mbest_model\u001b[0m\u001b[0;34m.\u001b[0m\u001b[0mpredict\u001b[0m\u001b[0;34m(\u001b[0m\u001b[0mrevenue_prediction_scaled\u001b[0m\u001b[0;34m)\u001b[0m\u001b[0;34m\u001b[0m\u001b[0;34m\u001b[0m\u001b[0m\n\u001b[0m\u001b[1;32m    334\u001b[0m         \u001b[0mprint\u001b[0m\u001b[0;34m(\u001b[0m\u001b[0;34mf\"This is the pred value based on the best LassoLars model: {pred_value}\"\u001b[0m\u001b[0;34m)\u001b[0m\u001b[0;34m\u001b[0m\u001b[0;34m\u001b[0m\u001b[0m\n\u001b[1;32m    335\u001b[0m \u001b[0;34m\u001b[0m\u001b[0m\n",
      "\u001b[0;32m~/opt/anaconda3/lib/python3.8/site-packages/sklearn/linear_model/_base.py\u001b[0m in \u001b[0;36mpredict\u001b[0;34m(self, X)\u001b[0m\n\u001b[1;32m    236\u001b[0m             \u001b[0mReturns\u001b[0m \u001b[0mpredicted\u001b[0m \u001b[0mvalues\u001b[0m\u001b[0;34m.\u001b[0m\u001b[0;34m\u001b[0m\u001b[0;34m\u001b[0m\u001b[0m\n\u001b[1;32m    237\u001b[0m         \"\"\"\n\u001b[0;32m--> 238\u001b[0;31m         \u001b[0;32mreturn\u001b[0m \u001b[0mself\u001b[0m\u001b[0;34m.\u001b[0m\u001b[0m_decision_function\u001b[0m\u001b[0;34m(\u001b[0m\u001b[0mX\u001b[0m\u001b[0;34m)\u001b[0m\u001b[0;34m\u001b[0m\u001b[0;34m\u001b[0m\u001b[0m\n\u001b[0m\u001b[1;32m    239\u001b[0m \u001b[0;34m\u001b[0m\u001b[0m\n\u001b[1;32m    240\u001b[0m     \u001b[0m_preprocess_data\u001b[0m \u001b[0;34m=\u001b[0m \u001b[0mstaticmethod\u001b[0m\u001b[0;34m(\u001b[0m\u001b[0m_preprocess_data\u001b[0m\u001b[0;34m)\u001b[0m\u001b[0;34m\u001b[0m\u001b[0;34m\u001b[0m\u001b[0m\n",
      "\u001b[0;32m~/opt/anaconda3/lib/python3.8/site-packages/sklearn/linear_model/_base.py\u001b[0m in \u001b[0;36m_decision_function\u001b[0;34m(self, X)\u001b[0m\n\u001b[1;32m    218\u001b[0m         \u001b[0mcheck_is_fitted\u001b[0m\u001b[0;34m(\u001b[0m\u001b[0mself\u001b[0m\u001b[0;34m)\u001b[0m\u001b[0;34m\u001b[0m\u001b[0;34m\u001b[0m\u001b[0m\n\u001b[1;32m    219\u001b[0m \u001b[0;34m\u001b[0m\u001b[0m\n\u001b[0;32m--> 220\u001b[0;31m         \u001b[0mX\u001b[0m \u001b[0;34m=\u001b[0m \u001b[0mcheck_array\u001b[0m\u001b[0;34m(\u001b[0m\u001b[0mX\u001b[0m\u001b[0;34m,\u001b[0m \u001b[0maccept_sparse\u001b[0m\u001b[0;34m=\u001b[0m\u001b[0;34m[\u001b[0m\u001b[0;34m'csr'\u001b[0m\u001b[0;34m,\u001b[0m \u001b[0;34m'csc'\u001b[0m\u001b[0;34m,\u001b[0m \u001b[0;34m'coo'\u001b[0m\u001b[0;34m]\u001b[0m\u001b[0;34m)\u001b[0m\u001b[0;34m\u001b[0m\u001b[0;34m\u001b[0m\u001b[0m\n\u001b[0m\u001b[1;32m    221\u001b[0m         return safe_sparse_dot(X, self.coef_.T,\n\u001b[1;32m    222\u001b[0m                                dense_output=True) + self.intercept_\n",
      "\u001b[0;32m~/opt/anaconda3/lib/python3.8/site-packages/sklearn/utils/validation.py\u001b[0m in \u001b[0;36minner_f\u001b[0;34m(*args, **kwargs)\u001b[0m\n\u001b[1;32m     61\u001b[0m             \u001b[0mextra_args\u001b[0m \u001b[0;34m=\u001b[0m \u001b[0mlen\u001b[0m\u001b[0;34m(\u001b[0m\u001b[0margs\u001b[0m\u001b[0;34m)\u001b[0m \u001b[0;34m-\u001b[0m \u001b[0mlen\u001b[0m\u001b[0;34m(\u001b[0m\u001b[0mall_args\u001b[0m\u001b[0;34m)\u001b[0m\u001b[0;34m\u001b[0m\u001b[0;34m\u001b[0m\u001b[0m\n\u001b[1;32m     62\u001b[0m             \u001b[0;32mif\u001b[0m \u001b[0mextra_args\u001b[0m \u001b[0;34m<=\u001b[0m \u001b[0;36m0\u001b[0m\u001b[0;34m:\u001b[0m\u001b[0;34m\u001b[0m\u001b[0;34m\u001b[0m\u001b[0m\n\u001b[0;32m---> 63\u001b[0;31m                 \u001b[0;32mreturn\u001b[0m \u001b[0mf\u001b[0m\u001b[0;34m(\u001b[0m\u001b[0;34m*\u001b[0m\u001b[0margs\u001b[0m\u001b[0;34m,\u001b[0m \u001b[0;34m**\u001b[0m\u001b[0mkwargs\u001b[0m\u001b[0;34m)\u001b[0m\u001b[0;34m\u001b[0m\u001b[0;34m\u001b[0m\u001b[0m\n\u001b[0m\u001b[1;32m     64\u001b[0m \u001b[0;34m\u001b[0m\u001b[0m\n\u001b[1;32m     65\u001b[0m             \u001b[0;31m# extra_args > 0\u001b[0m\u001b[0;34m\u001b[0m\u001b[0;34m\u001b[0m\u001b[0;34m\u001b[0m\u001b[0m\n",
      "\u001b[0;32m~/opt/anaconda3/lib/python3.8/site-packages/sklearn/utils/validation.py\u001b[0m in \u001b[0;36mcheck_array\u001b[0;34m(array, accept_sparse, accept_large_sparse, dtype, order, copy, force_all_finite, ensure_2d, allow_nd, ensure_min_samples, ensure_min_features, estimator)\u001b[0m\n\u001b[1;32m    661\u001b[0m \u001b[0;34m\u001b[0m\u001b[0m\n\u001b[1;32m    662\u001b[0m         \u001b[0;32mif\u001b[0m \u001b[0mforce_all_finite\u001b[0m\u001b[0;34m:\u001b[0m\u001b[0;34m\u001b[0m\u001b[0;34m\u001b[0m\u001b[0m\n\u001b[0;32m--> 663\u001b[0;31m             _assert_all_finite(array,\n\u001b[0m\u001b[1;32m    664\u001b[0m                                allow_nan=force_all_finite == 'allow-nan')\n\u001b[1;32m    665\u001b[0m \u001b[0;34m\u001b[0m\u001b[0m\n",
      "\u001b[0;32m~/opt/anaconda3/lib/python3.8/site-packages/sklearn/utils/validation.py\u001b[0m in \u001b[0;36m_assert_all_finite\u001b[0;34m(X, allow_nan, msg_dtype)\u001b[0m\n\u001b[1;32m    101\u001b[0m                 not allow_nan and not np.isfinite(X).all()):\n\u001b[1;32m    102\u001b[0m             \u001b[0mtype_err\u001b[0m \u001b[0;34m=\u001b[0m \u001b[0;34m'infinity'\u001b[0m \u001b[0;32mif\u001b[0m \u001b[0mallow_nan\u001b[0m \u001b[0;32melse\u001b[0m \u001b[0;34m'NaN, infinity'\u001b[0m\u001b[0;34m\u001b[0m\u001b[0;34m\u001b[0m\u001b[0m\n\u001b[0;32m--> 103\u001b[0;31m             raise ValueError(\n\u001b[0m\u001b[1;32m    104\u001b[0m                     \u001b[0mmsg_err\u001b[0m\u001b[0;34m.\u001b[0m\u001b[0mformat\u001b[0m\u001b[0;34m\u001b[0m\u001b[0;34m\u001b[0m\u001b[0m\n\u001b[1;32m    105\u001b[0m                     (type_err,\n",
      "\u001b[0;31mValueError\u001b[0m: Input contains NaN, infinity or a value too large for dtype('float64')."
     ]
    }
   ],
   "source": [
    "am.auto_regress_grid( y_train, train, X_train_scaled, y_test, X_test_scaled, this_is_it_scaled)"
   ]
  }
 ],
 "metadata": {
  "kernelspec": {
   "display_name": "base",
   "language": "python",
   "name": "python3"
  },
  "language_info": {
   "codemirror_mode": {
    "name": "ipython",
    "version": 3
   },
   "file_extension": ".py",
   "mimetype": "text/x-python",
   "name": "python",
   "nbconvert_exporter": "python",
   "pygments_lexer": "ipython3",
   "version": "3.8.8"
  },
  "orig_nbformat": 4
 },
 "nbformat": 4,
 "nbformat_minor": 2
}
